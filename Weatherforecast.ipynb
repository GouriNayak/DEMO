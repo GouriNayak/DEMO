{
  "nbformat": 4,
  "nbformat_minor": 0,
  "metadata": {
    "colab": {
      "name": "Weatherforecast.ipynb",
      "provenance": [],
      "authorship_tag": "ABX9TyMjty/dDbf9zhjf5UY1vW4c",
      "include_colab_link": true
    },
    "kernelspec": {
      "name": "python3",
      "display_name": "Python 3"
    },
    "language_info": {
      "name": "python"
    }
  },
  "cells": [
    {
      "cell_type": "markdown",
      "metadata": {
        "id": "view-in-github",
        "colab_type": "text"
      },
      "source": [
        "<a href=\"https://colab.research.google.com/github/GouriNayak/DEMO/blob/main/Weatherforecast.ipynb\" target=\"_parent\"><img src=\"https://colab.research.google.com/assets/colab-badge.svg\" alt=\"Open In Colab\"/></a>"
      ]
    },
    {
      "cell_type": "markdown",
      "metadata": {
        "id": "CmMScs6kc6He"
      },
      "source": [
        "Import the required libraries\n"
      ]
    },
    {
      "cell_type": "code",
      "metadata": {
        "id": "ygScsLDgbhMk"
      },
      "source": [
        "import numpy as np  # linear algebra\n",
        "import pandas as pd # Data processing , CSV file I/O (e.g. pd.read_csv)"
      ],
      "execution_count": null,
      "outputs": []
    },
    {
      "cell_type": "markdown",
      "metadata": {
        "id": "Pf7lsR46i9uC"
      },
      "source": [
        "Load the csv file as data frame"
      ]
    },
    {
      "cell_type": "code",
      "metadata": {
        "id": "3pDcimxV48YO"
      },
      "source": [
        "df=pd.read_csv(\"https://raw.githubusercontent.com/GouriNayak/DEMO/main/weatherAUS.csv\")"
      ],
      "execution_count": null,
      "outputs": []
    },
    {
      "cell_type": "code",
      "metadata": {
        "colab": {
          "base_uri": "https://localhost:8080/"
        },
        "id": "vSlM8PlK6V7t",
        "outputId": "327c76e3-8bd8-4791-c771-b1f11c6c0872"
      },
      "source": [
        "print('size of weather data frame is :',df.shape)"
      ],
      "execution_count": null,
      "outputs": [
        {
          "output_type": "stream",
          "text": [
            "size of weather data frame is : (142193, 24)\n"
          ],
          "name": "stdout"
        }
      ]
    },
    {
      "cell_type": "markdown",
      "metadata": {
        "id": "u92SvWhx6gel"
      },
      "source": [
        "Display data"
      ]
    },
    {
      "cell_type": "code",
      "metadata": {
        "colab": {
          "base_uri": "https://localhost:8080/"
        },
        "id": "UC6mCSD66jat",
        "outputId": "594dd386-4b45-4e01-ea07-78aec4812964"
      },
      "source": [
        "print(df[0:5])"
      ],
      "execution_count": null,
      "outputs": [
        {
          "output_type": "stream",
          "text": [
            "         Date Location  MinTemp  ...  RainToday  RISK_MM  RainTomorrow\n",
            "0  2008-12-01   Albury     13.4  ...         No      0.0            No\n",
            "1  2008-12-02   Albury      7.4  ...         No      0.0            No\n",
            "2  2008-12-03   Albury     12.9  ...         No      0.0            No\n",
            "3  2008-12-04   Albury      9.2  ...         No      1.0            No\n",
            "4  2008-12-05   Albury     17.5  ...         No      0.2            No\n",
            "\n",
            "[5 rows x 24 columns]\n"
          ],
          "name": "stdout"
        }
      ]
    },
    {
      "cell_type": "markdown",
      "metadata": {
        "id": "V8bypx4Y6wSt"
      },
      "source": [
        "Checking null values"
      ]
    },
    {
      "cell_type": "code",
      "metadata": {
        "colab": {
          "base_uri": "https://localhost:8080/"
        },
        "id": "2xpJKf1j67j-",
        "outputId": "b26a507e-3d54-4563-e736-f73a7cf19b8c"
      },
      "source": [
        "print(df.count().sort_values())"
      ],
      "execution_count": null,
      "outputs": [
        {
          "output_type": "stream",
          "text": [
            "Sunshine          74377\n",
            "Evaporation       81350\n",
            "Cloud3pm          85099\n",
            "Cloud9am          88536\n",
            "Pressure9am      128179\n",
            "Pressure3pm      128212\n",
            "WindDir9am       132180\n",
            "WindGustDir      132863\n",
            "WindGustSpeed    132923\n",
            "WindDir3pm       138415\n",
            "Humidity3pm      138583\n",
            "Temp3pm          139467\n",
            "WindSpeed3pm     139563\n",
            "Humidity9am      140419\n",
            "RainToday        140787\n",
            "Rainfall         140787\n",
            "WindSpeed9am     140845\n",
            "Temp9am          141289\n",
            "MinTemp          141556\n",
            "MaxTemp          141871\n",
            "Date             142193\n",
            "Location         142193\n",
            "RISK_MM          142193\n",
            "RainTomorrow     142193\n",
            "dtype: int64\n"
          ],
          "name": "stdout"
        }
      ]
    },
    {
      "cell_type": "markdown",
      "metadata": {
        "id": "pApzDYk17JOs"
      },
      "source": [
        "# As we can see the first 4 coloumns have less than 60% data, we can ignore these 4 colur\n",
        "\n",
        "# we don't need the location column because we are going to find if it will rain in Australia(not lacation specific)\n",
        "\n",
        "# we are going to drop the date column too.\n",
        "\n",
        "# we need to remove RISK_MM because we want to predict 'RainTomorrow' and RISK_MM can leak\n",
        "# we remove unwanted data\n",
        "'Sunshine','Evaporation','Cloud3pm','Cloud9am','Location','RISK_MM','Date'"
      ]
    },
    {
      "cell_type": "code",
      "metadata": {
        "id": "0HmW9L-t9sxa"
      },
      "source": [
        "df = df.drop(columns=['Sunshine','Evaporation','Cloud3pm','Cloud9am','Location','RISK_MM','Date'],axis=1)"
      ],
      "execution_count": null,
      "outputs": []
    },
    {
      "cell_type": "code",
      "metadata": {
        "colab": {
          "base_uri": "https://localhost:8080/"
        },
        "id": "8R60qmC698JL",
        "outputId": "2fc3baf5-57af-4f13-c10d-e731a4f6f0f1"
      },
      "source": [
        "print(df.shape)"
      ],
      "execution_count": null,
      "outputs": [
        {
          "output_type": "stream",
          "text": [
            "(142193, 17)\n"
          ],
          "name": "stdout"
        }
      ]
    },
    {
      "cell_type": "markdown",
      "metadata": {
        "id": "oQo2cFqm-Ci6"
      },
      "source": [
        "# Let us get rid of all null values in df"
      ]
    },
    {
      "cell_type": "code",
      "metadata": {
        "id": "WoM0QMZb-IFa"
      },
      "source": [
        "df = df.dropna(how='any')"
      ],
      "execution_count": null,
      "outputs": []
    },
    {
      "cell_type": "code",
      "metadata": {
        "colab": {
          "base_uri": "https://localhost:8080/"
        },
        "id": "YFg8M4qt-QVK",
        "outputId": "1a6bbd11-d4e0-45bd-d010-c14f70794825"
      },
      "source": [
        "print(df.shape)"
      ],
      "execution_count": null,
      "outputs": [
        {
          "output_type": "stream",
          "text": [
            "(112925, 17)\n"
          ],
          "name": "stdout"
        }
      ]
    }
  ]
}